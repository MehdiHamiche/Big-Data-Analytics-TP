{
 "cells": [
  {
   "cell_type": "markdown",
   "metadata": {
    "id": "F-tIxDsUZOXm"
   },
   "source": [
    "# TP 2: Probability"
   ]
  },
  {
   "cell_type": "markdown",
   "metadata": {
    "id": "Yf7qkrWBZcrS"
   },
   "source": [
    "## Recalls"
   ]
  },
  {
   "cell_type": "markdown",
   "metadata": {
    "id": "WUHvsvB-RcKB"
   },
   "source": [
    "### Random sampling"
   ]
  },
  {
   "cell_type": "markdown",
   "metadata": {
    "id": "553OnL4KRyQB"
   },
   "source": [
    "Numpy offers several routines to generate easily uniform and normal random samples:\n",
    "\n"
   ]
  },
  {
   "cell_type": "code",
   "execution_count": 1,
   "metadata": {
    "id": "Hm0HEaTcRhjD"
   },
   "outputs": [],
   "source": [
    "import numpy as np\n",
    "import numpy.random as rdm"
   ]
  },
  {
   "cell_type": "code",
   "execution_count": 2,
   "metadata": {
    "colab": {
     "base_uri": "https://localhost:8080/"
    },
    "id": "l3MWECdASBVK",
    "outputId": "27237ab4-5b36-471f-ba8c-fee57bbb7ce5"
   },
   "outputs": [
    {
     "data": {
      "text/plain": [
       "array([[0.6 , 0.18],\n",
       "       [0.51, 0.66]])"
      ]
     },
     "execution_count": 2,
     "metadata": {},
     "output_type": "execute_result"
    }
   ],
   "source": [
    "np.set_printoptions(precision=2)\n",
    "rdm.rand(2, 2)  # Uniform sampling"
   ]
  },
  {
   "cell_type": "code",
   "execution_count": 3,
   "metadata": {
    "colab": {
     "base_uri": "https://localhost:8080/"
    },
    "id": "jtJbAe6XSPAQ",
    "outputId": "464ae1f4-b517-447b-8b6e-81424205a9c8"
   },
   "outputs": [
    {
     "data": {
      "text/plain": [
       "array([[-1.2 ,  0.65],\n",
       "       [ 0.24, -0.23]])"
      ]
     },
     "execution_count": 3,
     "metadata": {},
     "output_type": "execute_result"
    }
   ],
   "source": [
    "rdm.randn(2,2) # Standard normal sampling"
   ]
  },
  {
   "cell_type": "code",
   "execution_count": 4,
   "metadata": {
    "colab": {
     "base_uri": "https://localhost:8080/"
    },
    "id": "46B_Fz9ySe0w",
    "outputId": "a2eda10c-cbb0-48c3-80be-cc7285208e0d"
   },
   "outputs": [
    {
     "data": {
      "text/plain": [
       "array([[6, 4],\n",
       "       [5, 6]])"
      ]
     },
     "execution_count": 4,
     "metadata": {},
     "output_type": "execute_result"
    }
   ],
   "source": [
    "rdm.randint(0, 8, size=(2, 2))  # Discrete uniform sampling (8 exclusive)"
   ]
  },
  {
   "cell_type": "code",
   "execution_count": 5,
   "metadata": {
    "colab": {
     "base_uri": "https://localhost:8080/"
    },
    "id": "KL-n9c9DS5YB",
    "outputId": "5cb91720-0a19-444c-9104-61e60176a06d"
   },
   "outputs": [
    {
     "data": {
      "text/plain": [
       "array([0.24, 0.55, 0.89, 0.32, 0.2 , 0.95, 0.19, 0.19, 0.73, 0.14])"
      ]
     },
     "execution_count": 5,
     "metadata": {},
     "output_type": "execute_result"
    }
   ],
   "source": [
    "T = rdm.rand(10)\n",
    "T"
   ]
  },
  {
   "cell_type": "code",
   "execution_count": 6,
   "metadata": {
    "colab": {
     "base_uri": "https://localhost:8080/"
    },
    "id": "jGyAzhTsTPm6",
    "outputId": "694c8788-0839-480d-9984-7cb5bb8019dc"
   },
   "outputs": [
    {
     "data": {
      "text/plain": [
       "array([0.19, 0.89, 0.14, 0.32, 0.24])"
      ]
     },
     "execution_count": 6,
     "metadata": {},
     "output_type": "execute_result"
    }
   ],
   "source": [
    "rdm.choice(T, size=5) # Select randomly 5 elements from T"
   ]
  },
  {
   "cell_type": "markdown",
   "metadata": {
    "id": "2FsRSTJwUWj0"
   },
   "source": [
    "### Random generators"
   ]
  },
  {
   "cell_type": "markdown",
   "metadata": {
    "id": "w9AYxhIQUcEl"
   },
   "source": [
    "Random generators used in scientific computing are in fact pseudo-random generators. As a consequence, the practitioner is able to control them. This is used for reproducibility in science.\n",
    "\n"
   ]
  },
  {
   "cell_type": "code",
   "execution_count": 7,
   "metadata": {
    "colab": {
     "base_uri": "https://localhost:8080/"
    },
    "id": "5u3vAp9LVb92",
    "outputId": "f06f6dc2-952f-4077-f4df-661b7cad00e9"
   },
   "outputs": [
    {
     "name": "stdout",
     "output_type": "stream",
     "text": [
      "Iteration: 0, sample: [0.47 0.41 0.06 0.87 0.31 0.32 0.76 0.21 0.23 0.53]\n",
      "Iteration: 1, sample: [0.14 0.49 0.42 0.61 0.38 0.37 0.37 0.62 0.26 0.05]\n",
      "Iteration: 2, sample: [0.31 0.88 0.86 0.48 0.89 0.35 0.85 0.01 0.93 0.83]\n",
      "Iteration: 3, sample: [0.18 0.15 0.78 0.42 0.63 0.82 0.04 0.28 0.08 0.18]\n",
      "Iteration: 4, sample: [0.39 0.32 0.07 0.7  0.67 0.92 0.27 0.57 0.57 0.59]\n"
     ]
    }
   ],
   "source": [
    "# Without fixed seed\n",
    "for i in range(5):\n",
    "  print(\"Iteration: {}, sample: {}\".format(i,rdm.rand(10)))"
   ]
  },
  {
   "cell_type": "code",
   "execution_count": 8,
   "metadata": {
    "colab": {
     "base_uri": "https://localhost:8080/"
    },
    "id": "8IUfvLPqUzww",
    "outputId": "bd516e78-2638-4fa4-f922-4f166f8f822e"
   },
   "outputs": [
    {
     "name": "stdout",
     "output_type": "stream",
     "text": [
      "Iteration: 0, sample: [0.37 0.95 0.73 0.6  0.16 0.16 0.06 0.87 0.6  0.71]\n",
      "Iteration: 1, sample: [0.37 0.95 0.73 0.6  0.16 0.16 0.06 0.87 0.6  0.71]\n",
      "Iteration: 2, sample: [0.37 0.95 0.73 0.6  0.16 0.16 0.06 0.87 0.6  0.71]\n",
      "Iteration: 3, sample: [0.37 0.95 0.73 0.6  0.16 0.16 0.06 0.87 0.6  0.71]\n",
      "Iteration: 4, sample: [0.37 0.95 0.73 0.6  0.16 0.16 0.06 0.87 0.6  0.71]\n"
     ]
    }
   ],
   "source": [
    "# With fixed seed\n",
    "for i in range(5):\n",
    "  rdm.seed(42) # set the seed\n",
    "  print(\"Iteration: {}, sample: {}\".format(i,rdm.rand(10)))"
   ]
  },
  {
   "cell_type": "markdown",
   "metadata": {
    "id": "VV0UPLdvWUCX"
   },
   "source": [
    "### Distributions"
   ]
  },
  {
   "cell_type": "markdown",
   "metadata": {
    "id": "fECMiLj7X5lx"
   },
   "source": [
    "Sampling from the common distribution may be performed using [scipy.stats](https://scipy.github.io/devdocs/reference/stats.html) functions."
   ]
  },
  {
   "cell_type": "code",
   "execution_count": 9,
   "metadata": {
    "colab": {
     "base_uri": "https://localhost:8080/"
    },
    "id": "j5i-A4-EbuKz",
    "outputId": "9fc7bd5a-e06c-4a8a-afd5-4c5ec0e563b4"
   },
   "outputs": [
    {
     "data": {
      "text/plain": [
       "array([ 3,  4,  4,  5,  6,  3,  4, 10,  2,  6])"
      ]
     },
     "execution_count": 9,
     "metadata": {},
     "output_type": "execute_result"
    }
   ],
   "source": [
    "from scipy.stats import poisson\n",
    "lam = 5.6\n",
    "sample = poisson.rvs(lam, size = 10) # generate a sample of size 10 from the poisson distribution with parameter 5.6\n",
    "sample"
   ]
  },
  {
   "cell_type": "markdown",
   "metadata": {
    "id": "gSHR4qZQeG_W"
   },
   "source": [
    "## Exercices"
   ]
  },
  {
   "cell_type": "markdown",
   "metadata": {
    "id": "Td6b6UwzRnj1"
   },
   "source": [
    "### Exercice 1"
   ]
  },
  {
   "cell_type": "markdown",
   "metadata": {
    "id": "4fPbmo6OShju"
   },
   "source": [
    "The empirical mean is an estimator of the theoretical mean. The objective of this exercice is to verify the quality of this estimator empirically.  "
   ]
  },
  {
   "cell_type": "markdown",
   "metadata": {
    "id": "PAyistg_bnA8"
   },
   "source": [
    "1. Generate a sample of size $n=20$ from the normal distribitution $\\mathcal{N}(10,1)$, compute the empirical mean and compare it to the theoretical one."
   ]
  },
  {
   "cell_type": "code",
   "execution_count": 10,
   "metadata": {
    "id": "x2a3R8FucPMf"
   },
   "outputs": [
    {
     "name": "stdout",
     "output_type": "stream",
     "text": [
      "Theoretical mean: 10.00\n",
      "Empirical mean: 10.26\n"
     ]
    }
   ],
   "source": [
    "# Answer\n",
    "import numpy as np\n",
    "from scipy.stats import norm\n",
    "\n",
    "# Parameters for the normal distribution\n",
    "mean_theoretical = 10\n",
    "std_deviation_theoretical = 1\n",
    "\n",
    "# Generate a sample of size n=20 from the normal distribution\n",
    "n = 20\n",
    "sample = np.random.normal(mean_theoretical, std_deviation_theoretical, n)\n",
    "\n",
    "# Compute the empirical mean\n",
    "empirical_mean = np.mean(sample)\n",
    "\n",
    "# Compare the empirical mean to the theoretical mean\n",
    "print(f\"Theoretical mean: {mean_theoretical:.2f}\")\n",
    "print(f\"Empirical mean: {empirical_mean:.2f}\")"
   ]
  },
  {
   "cell_type": "markdown",
   "metadata": {
    "id": "AVM1_Nn5cVn4"
   },
   "source": [
    "2. Repeate many times the same instruction and verify if the empirical mean is stable with the different sample."
   ]
  },
  {
   "cell_type": "code",
   "execution_count": 11,
   "metadata": {
    "id": "35cdk5hNc0mY"
   },
   "outputs": [
    {
     "name": "stdout",
     "output_type": "stream",
     "text": [
      "Theoretical mean: 10.00\n",
      "Average empirical mean: 10.00\n"
     ]
    }
   ],
   "source": [
    " # Answer\n",
    "import numpy as np\n",
    "from scipy.stats import norm\n",
    "\n",
    "# Parameters for the normal distribution\n",
    "mean_theoretical = 10\n",
    "std_deviation_theoretical = 1\n",
    "\n",
    "# Number of repetitions\n",
    "num_repetitions = 1000\n",
    "\n",
    "# Generate and analyze samples\n",
    "empirical_means = []\n",
    "for _ in range(num_repetitions):\n",
    "    # Generate a sample of size n=20 from the normal distribution\n",
    "    n = 20\n",
    "    sample = np.random.normal(mean_theoretical, std_deviation_theoretical, n)\n",
    "\n",
    "    # Compute the empirical mean\n",
    "    empirical_mean = np.mean(sample)\n",
    "    empirical_means.append(empirical_mean)\n",
    "\n",
    "# Calculate the average of empirical means\n",
    "average_empirical_mean = np.mean(empirical_means)\n",
    "\n",
    "# Compare the average empirical mean to the theoretical mean\n",
    "print(f\"Theoretical mean: {mean_theoretical:.2f}\")\n",
    "print(f\"Average empirical mean: {average_empirical_mean:.2f}\")\n"
   ]
  },
  {
   "cell_type": "markdown",
   "metadata": {
    "id": "r0a2bv_xc9ZL"
   },
   "source": [
    "3. Do the same by considering the normal distribution $\\mathcal{N}(10,10)$ and comment the results."
   ]
  },
  {
   "cell_type": "code",
   "execution_count": 12,
   "metadata": {
    "id": "x-LM6iXXc7mP"
   },
   "outputs": [
    {
     "name": "stdout",
     "output_type": "stream",
     "text": [
      "Theoretical mean: 10.00\n",
      "Average empirical mean: 10.01\n"
     ]
    },
    {
     "data": {
      "text/plain": [
       "\"\\nAfter running the code, you'll observe that the average empirical mean might be closer to the theoretical mean compared to the previous case\\nwith a smaller standard deviation. This is because the larger standard deviation of 10 leads to a broader spread of values, which allows the sample\\nmeans to be more variable and potentially closer to the theoretical mean.\\n\\nIn summary, when the standard deviation is larger, the empirical mean tends\\nto be more stable and closer to the theoretical mean due to the increased variability in the sampled values.\\n\""
      ]
     },
     "execution_count": 12,
     "metadata": {},
     "output_type": "execute_result"
    }
   ],
   "source": [
    "# Answer\n",
    "import numpy as np\n",
    "from scipy.stats import norm\n",
    "\n",
    "# Parameters for the normal distribution\n",
    "mean_theoretical = 10\n",
    "std_deviation_theoretical = 10\n",
    "\n",
    "# Number of repetitions\n",
    "num_repetitions = 1000\n",
    "\n",
    "# Generate and analyze samples\n",
    "empirical_means = []\n",
    "for _ in range(num_repetitions):\n",
    "    # Generate a sample of size n=20 from the normal distribution\n",
    "    n = 20\n",
    "    sample = np.random.normal(mean_theoretical, std_deviation_theoretical, n)\n",
    "\n",
    "    # Compute the empirical mean\n",
    "    empirical_mean = np.mean(sample)\n",
    "    empirical_means.append(empirical_mean)\n",
    "\n",
    "# Calculate the average of empirical means\n",
    "average_empirical_mean = np.mean(empirical_means)\n",
    "\n",
    "# Compare the average empirical mean to the theoretical mean\n",
    "print(f\"Theoretical mean: {mean_theoretical:.2f}\")\n",
    "print(f\"Average empirical mean: {average_empirical_mean:.2f}\")\n",
    "\n",
    "\"\"\"\n",
    "After running the code, you'll observe that the average empirical mean might be closer to the theoretical mean compared to the previous case\n",
    "with a smaller standard deviation. This is because the larger standard deviation of 10 leads to a broader spread of values, which allows the sample\n",
    "means to be more variable and potentially closer to the theoretical mean.\n",
    "\n",
    "In summary, when the standard deviation is larger, the empirical mean tends\n",
    "to be more stable and closer to the theoretical mean due to the increased variability in the sampled values.\n",
    "\"\"\""
   ]
  },
  {
   "cell_type": "markdown",
   "metadata": {
    "id": "ITvBAFDffWbV"
   },
   "source": [
    "4. Compute the skewness coefficient for the samples of different sizes generated form normal distributions with different parameters. Comment the results.  "
   ]
  },
  {
   "cell_type": "code",
   "execution_count": 13,
   "metadata": {
    "id": "_b-SrXI4hLhI"
   },
   "outputs": [
    {
     "name": "stdout",
     "output_type": "stream",
     "text": [
      "Scenario: Mean = 10, Standard Deviation = 1\n",
      "Sample size = 20, Skewness coefficient = 0.1301\n",
      "Sample size = 100, Skewness coefficient = -0.4921\n",
      "Sample size = 1000, Skewness coefficient = -0.1187\n",
      "\n",
      "Scenario: Mean = 10, Standard Deviation = 10\n",
      "Sample size = 20, Skewness coefficient = 0.4748\n",
      "Sample size = 100, Skewness coefficient = 0.4148\n",
      "Sample size = 1000, Skewness coefficient = -0.0692\n",
      "\n",
      "Scenario: Mean = 5, Standard Deviation = 2\n",
      "Sample size = 50, Skewness coefficient = 0.2163\n",
      "Sample size = 200, Skewness coefficient = -0.2464\n",
      "Sample size = 500, Skewness coefficient = 0.0953\n",
      "\n"
     ]
    }
   ],
   "source": [
    "# Answer\n",
    "import numpy as np\n",
    "from scipy.stats import skew\n",
    "\n",
    "# Define different scenarios\n",
    "scenarios = [\n",
    "    {\"mean\": 10, \"std_deviation\": 1, \"sample_sizes\": [20, 100, 1000]},\n",
    "    {\"mean\": 10, \"std_deviation\": 10, \"sample_sizes\": [20, 100, 1000]},\n",
    "    {\"mean\": 5, \"std_deviation\": 2, \"sample_sizes\": [50, 200, 500]},\n",
    "]\n",
    "\n",
    "# Calculate skewness coefficient for each scenario\n",
    "for scenario in scenarios:\n",
    "    mean = scenario[\"mean\"]\n",
    "    std_deviation = scenario[\"std_deviation\"]\n",
    "\n",
    "    print(f\"Scenario: Mean = {mean}, Standard Deviation = {std_deviation}\")\n",
    "    for sample_size in scenario[\"sample_sizes\"]:\n",
    "        # Generate a sample from the normal distribution\n",
    "        sample = np.random.normal(mean, std_deviation, sample_size)\n",
    "\n",
    "        # Calculate skewness coefficient\n",
    "        skewness = skew(sample)\n",
    "\n",
    "        print(f\"Sample size = {sample_size}, Skewness coefficient = {skewness:.4f}\")\n",
    "    print()"
   ]
  },
  {
   "cell_type": "markdown",
   "metadata": {
    "id": "bhHYJderN7bi"
   },
   "source": [
    "Commentary on the results:\n",
    "\n",
    "For the scenario with a smaller standard deviation (1 or 10) and varying sample sizes, you might observe that the skewness coefficient is generally close to 0. A larger sample size might lead to skewness closer to 0. This is due to the fact that the normal distribution is symmetric.\n",
    "\n",
    "For the scenario with a larger standard deviation (10) and varying sample sizes, you might observe that the skewness coefficient tends to be more negative, indicating a longer left tail and negative skewness (left skewness). This is expected since the distribution is more spread out and has more potential for outliers on the left side.\n",
    "\n",
    "Changing the mean while keeping the same standard deviation will shift the distribution along the x-axis. It will not directly impact the skewness as much as changing the standard deviation.\n",
    "\n",
    "Remember that these observations are based on random sampling, and the exact values can vary in different runs."
   ]
  },
  {
   "cell_type": "markdown",
   "metadata": {
    "id": "rHtW8NZkhPKR"
   },
   "source": [
    "5. Same question for the Kurtosis coefficient."
   ]
  },
  {
   "cell_type": "code",
   "execution_count": 14,
   "metadata": {
    "id": "2dVPmV8tN_HN"
   },
   "outputs": [
    {
     "name": "stdout",
     "output_type": "stream",
     "text": [
      "Scenario: Mean = 10, Standard Deviation = 1\n",
      "Sample size = 20, Kurtosis coefficient = 1.0256\n",
      "Sample size = 100, Kurtosis coefficient = 0.3673\n",
      "Sample size = 1000, Kurtosis coefficient = 0.1018\n",
      "\n",
      "Scenario: Mean = 10, Standard Deviation = 10\n",
      "Sample size = 20, Kurtosis coefficient = 2.1145\n",
      "Sample size = 100, Kurtosis coefficient = -0.2040\n",
      "Sample size = 1000, Kurtosis coefficient = 0.0381\n",
      "\n",
      "Scenario: Mean = 5, Standard Deviation = 2\n",
      "Sample size = 50, Kurtosis coefficient = 0.0550\n",
      "Sample size = 200, Kurtosis coefficient = 0.4643\n",
      "Sample size = 500, Kurtosis coefficient = -0.0439\n",
      "\n"
     ]
    }
   ],
   "source": [
    "import numpy as np\n",
    "from scipy.stats import kurtosis\n",
    "\n",
    "# Define different scenarios\n",
    "scenarios = [\n",
    "    {\"mean\": 10, \"std_deviation\": 1, \"sample_sizes\": [20, 100, 1000]},\n",
    "    {\"mean\": 10, \"std_deviation\": 10, \"sample_sizes\": [20, 100, 1000]},\n",
    "    {\"mean\": 5, \"std_deviation\": 2, \"sample_sizes\": [50, 200, 500]},\n",
    "]\n",
    "\n",
    "# Calculate kurtosis coefficient for each scenario\n",
    "for scenario in scenarios:\n",
    "    mean = scenario[\"mean\"]\n",
    "    std_deviation = scenario[\"std_deviation\"]\n",
    "\n",
    "    print(f\"Scenario: Mean = {mean}, Standard Deviation = {std_deviation}\")\n",
    "    for sample_size in scenario[\"sample_sizes\"]:\n",
    "        # Generate a sample from the normal distribution\n",
    "        sample = np.random.normal(mean, std_deviation, sample_size)\n",
    "\n",
    "        # Calculate kurtosis coefficient\n",
    "        kurt = kurtosis(sample)\n",
    "\n",
    "        print(f\"Sample size = {sample_size}, Kurtosis coefficient = {kurt:.4f}\")\n",
    "    print()"
   ]
  },
  {
   "cell_type": "markdown",
   "metadata": {
    "id": "ckRSqliBOSfx"
   },
   "source": [
    "Commentary on the results:\n",
    "\n",
    "For the scenario with a smaller standard deviation (1 or 10) and varying sample sizes, you might observe that the kurtosis coefficient is close to 0, indicating a similar tail heaviness as a normal distribution (mesokurtic distribution).\n",
    "\n",
    "For the scenario with a larger standard deviation (10) and varying sample sizes, you might observe that the kurtosis coefficient tends to be positive, indicating heavier tails compared to a normal distribution (leptokurtic distribution).\n",
    "\n",
    "Changing the mean while keeping the same standard deviation will not impact the kurtosis coefficient significantly, as long as the distribution shape remains similar.\n",
    "\n",
    "Remember that just like skewness, these observations are based on random sampling, and the exact values can vary in different runs. Kurtosis provides insights into the tails of the distribution, indicating whether they are heavier or lighter compared to a normal distribution."
   ]
  },
  {
   "cell_type": "markdown",
   "metadata": {
    "id": "35XDVpBrjjZl"
   },
   "source": [
    "### Exercice 2"
   ]
  },
  {
   "cell_type": "markdown",
   "metadata": {
    "id": "H9_Of6HMkP_n"
   },
   "source": [
    "Let $X_1,\\,X_2,\\,⋯$ be independant random variables that follow the same normal distribution $\\mathcal{N}(0,1)$ distribution. We let $Y_n = \\sum_{k=1}^n X_k^2$. Then, $Y_n$ follows the [chi-squared distribution](https://en.wikipedia.org/wiki/Chi-squared_distribution) (denoted by $χ_{n}^{2}$) with $n$ degrees of freedom. The central limit theorem states that\n",
    "$$\n",
    "\\frac{1}{\\sqrt{2n}}(Y_n - n)⟶ \\mathcal{N}(0,1), \\quad n⟶\\infty.\n",
    "$$  \n",
    "Hence, the random variable $Y_n$ approximates the normal distribution $\\mathcal{N}(n,2n)$ (i.e., $χ_{n}^{2}≈\\mathcal{N}(n,2n)$ when $n$ is too large). The obejctive of this exercice is to empirically verify this approximation.\n",
    "\n",
    "1. For $n\\in\\{1, 10, 100, 1000\\}$ generate a sample of size $1000$ from the $χ_{n}^{2}$ distribution. Compare the empirical mean of the sample to the theoretical mean $\\mathcal{N}(n,2n)$. Comment the results."
   ]
  },
  {
   "cell_type": "code",
   "execution_count": 15,
   "metadata": {
    "id": "uD6J5XDLteAp"
   },
   "outputs": [
    {
     "name": "stdout",
     "output_type": "stream",
     "text": [
      "For n = 1:\n",
      "Theoretical mean of normal distribution: 1.00\n",
      "Theoretical mean of empirical means: 1.00\n",
      "Standard error of the mean: 0.04\n",
      "\n",
      "For n = 10:\n",
      "Theoretical mean of normal distribution: 10.00\n",
      "Theoretical mean of empirical means: 9.99\n",
      "Standard error of the mean: 0.14\n",
      "\n",
      "For n = 100:\n",
      "Theoretical mean of normal distribution: 100.00\n",
      "Theoretical mean of empirical means: 99.99\n",
      "Standard error of the mean: 0.45\n",
      "\n",
      "For n = 1000:\n",
      "Theoretical mean of normal distribution: 1000.00\n",
      "Theoretical mean of empirical means: 1000.05\n",
      "Standard error of the mean: 1.41\n",
      "\n"
     ]
    }
   ],
   "source": [
    "# Answer\n",
    "import numpy as np\n",
    "from scipy.stats import chi2\n",
    "from scipy.stats import norm\n",
    "\n",
    "# Number of samples and sample size\n",
    "num_samples = 1000\n",
    "sample_size = 1000\n",
    "\n",
    "# List of degrees of freedom values (n)\n",
    "degrees_of_freedom_values = [1, 10, 100, 1000]\n",
    "\n",
    "# Generate samples and compare empirical mean to theoretical mean\n",
    "for n in degrees_of_freedom_values:\n",
    "    # Generate samples from the chi-squared distribution\n",
    "    samples_chi2 = chi2.rvs(df=n, size=(num_samples, sample_size))\n",
    "\n",
    "    # Calculate the empirical mean for each sample\n",
    "    empirical_means = np.mean(samples_chi2, axis=1)\n",
    "\n",
    "    # Calculate the theoretical mean of the normal distribution\n",
    "    theoretical_mean = n\n",
    "\n",
    "    # Calculate the theoretical standard deviation of the normal distribution\n",
    "    theoretical_std_deviation = np.sqrt(2 * n)\n",
    "\n",
    "    # Calculate the theoretical mean of the empirical means\n",
    "    theoretical_mean_empirical = np.mean(empirical_means)\n",
    "\n",
    "    # Calculate the standard error of the mean\n",
    "    standard_error = theoretical_std_deviation / np.sqrt(sample_size)\n",
    "\n",
    "    print(f\"For n = {n}:\")\n",
    "    print(f\"Theoretical mean of normal distribution: {theoretical_mean:.2f}\")\n",
    "    print(f\"Theoretical mean of empirical means: {theoretical_mean_empirical:.2f}\")\n",
    "    print(f\"Standard error of the mean: {standard_error:.2f}\")\n",
    "    print()\n"
   ]
  },
  {
   "cell_type": "markdown",
   "metadata": {
    "id": "GbfxHU3otV2x"
   },
   "source": [
    "2. Same question for the empirical variance, skewness and Kurtosis."
   ]
  },
  {
   "cell_type": "code",
   "execution_count": 16,
   "metadata": {
    "id": "yaAKz01At0xA"
   },
   "outputs": [
    {
     "name": "stdout",
     "output_type": "stream",
     "text": [
      "For n = 1:\n",
      "Theoretical variance of normal distribution: 2.00\n",
      "Empirical variance: 1.99\n",
      "\n",
      "Theoretical skewness of normal distribution: 0.00\n",
      "Empirical skewness: 2.79\n",
      "\n",
      "Theoretical kurtosis of normal distribution: 3.00\n",
      "Empirical kurtosis: 11.46\n",
      "For n = 10:\n",
      "Theoretical variance of normal distribution: 20.00\n",
      "Empirical variance: 19.98\n",
      "\n",
      "Theoretical skewness of normal distribution: 0.00\n",
      "Empirical skewness: 0.89\n",
      "\n",
      "Theoretical kurtosis of normal distribution: 3.00\n",
      "Empirical kurtosis: 1.15\n",
      "For n = 100:\n",
      "Theoretical variance of normal distribution: 200.00\n",
      "Empirical variance: 200.19\n",
      "\n",
      "Theoretical skewness of normal distribution: 0.00\n",
      "Empirical skewness: 0.28\n",
      "\n",
      "Theoretical kurtosis of normal distribution: 3.00\n",
      "Empirical kurtosis: 0.10\n",
      "For n = 1000:\n",
      "Theoretical variance of normal distribution: 2000.00\n",
      "Empirical variance: 2000.94\n",
      "\n",
      "Theoretical skewness of normal distribution: 0.00\n",
      "Empirical skewness: 0.09\n",
      "\n",
      "Theoretical kurtosis of normal distribution: 3.00\n",
      "Empirical kurtosis: 0.01\n"
     ]
    }
   ],
   "source": [
    "# Answer\n",
    "import numpy as np\n",
    "from scipy.stats import chi2\n",
    "from scipy.stats import norm\n",
    "from scipy.stats import skew\n",
    "from scipy.stats import kurtosis\n",
    "\n",
    "# Number of samples and sample size\n",
    "num_samples = 1000\n",
    "sample_size = 1000\n",
    "\n",
    "# List of degrees of freedom values (n)\n",
    "degrees_of_freedom_values = [1, 10, 100, 1000]\n",
    "\n",
    "# Generate samples and compare empirical statistics to theoretical values\n",
    "for n in degrees_of_freedom_values:\n",
    "    # Generate samples from the chi-squared distribution\n",
    "    samples_chi2 = chi2.rvs(df=n, size=(num_samples, sample_size))\n",
    "\n",
    "    # Calculate the empirical statistics for each sample\n",
    "    empirical_variances = np.var(samples_chi2, axis=1)\n",
    "    empirical_skewness = skew(samples_chi2, axis=1)\n",
    "    empirical_kurtosis = kurtosis(samples_chi2, axis=1)\n",
    "\n",
    "    # Calculate the theoretical variance of the normal distribution\n",
    "    theoretical_variance = 2 * n\n",
    "\n",
    "    # Calculate the theoretical skewness of the normal distribution\n",
    "    theoretical_skewness = 0\n",
    "\n",
    "    # Calculate the theoretical kurtosis of the normal distribution\n",
    "    theoretical_kurtosis = 3\n",
    "\n",
    "    print(f\"For n = {n}:\")\n",
    "    print(f\"Theoretical variance of normal distribution: {theoretical_variance:.2f}\")\n",
    "    print(f\"Empirical variance: {np.mean(empirical_variances):.2f}\")\n",
    "    print()\n",
    "    print(f\"Theoretical skewness of normal distribution: {theoretical_skewness:.2f}\")\n",
    "    print(f\"Empirical skewness: {np.mean(empirical_skewness):.2f}\")\n",
    "    print()\n",
    "    print(f\"Theoretical kurtosis of normal distribution: {theoretical_kurtosis:.2f}\")\n",
    "    print(f\"Empirical kurtosis: {np.mean(empirical_kurtosis):.2f}\")\n"
   ]
  },
  {
   "cell_type": "markdown",
   "metadata": {
    "id": "pC4QtaYb18Ug"
   },
   "source": [
    "### Exercice 3"
   ]
  },
  {
   "cell_type": "markdown",
   "metadata": {
    "id": "S-zjX6N73kWm"
   },
   "source": [
    "Consider a player playing to heads or tails game (flipping the coin). The objective of this exercice is to simulate the evolution of the amount of money of the player. The player wins $1$€ if the result is tails, and loses $1$€ if it's heads. We denote by $p$ the probability of obtaining tails. The amount of money of the player at time $t$ is given by\n",
    "$$\n",
    "S_t = \\begin{cases}\n",
    "\t\t\t0, & \\text{if $S_{t-1}=0$,}\\\\\n",
    "            S_{t-1}+X_t, & \\text{if $S_{t-1}\\geq 1$,}\n",
    "\t\t \\end{cases}\n",
    "$$\n",
    "where $(X_t)_{t\\geq 1}$ are i.i.d random variable such that $\\mathbb{P}(X_t = 1) = p$"
   ]
  },
  {
   "cell_type": "markdown",
   "metadata": {
    "id": "B9A9qT287EKI"
   },
   "source": [
    "1. Define a function ```simulate(p, a, n)``` that generate a simulation of length $n$ of the process with $S_0=a$, i.e., the function returns the sequence $(S_0, S_1, ⋯, S_n)$."
   ]
  },
  {
   "cell_type": "code",
   "execution_count": 16,
   "metadata": {
    "id": "t3vTIRY19Wvi"
   },
   "outputs": [
    {
     "name": "stdout",
     "output_type": "stream",
     "text": [
      "[10, 11, 10, 9, 8, 7, 8, 7, 6, 5, 6, 5, 6, 7, 6, 5, 4, 5, 6, 5, 4, 5, 4, 3, 4, 5, 6, 5, 4, 3, 2, 3, 4, 5, 4, 3, 2, 1, 0, 0, 0, 0, 0, 0, 0, 0, 0, 0, 0, 0, 0, 0, 0, 0, 0, 0, 0, 0, 0, 0, 0, 0, 0, 0, 0, 0, 0, 0, 0, 0, 0, 0, 0, 0, 0, 0, 0, 0, 0, 0, 0, 0, 0, 0, 0, 0, 0, 0, 0, 0, 0, 0, 0, 0, 0, 0, 0, 0, 0, 0, 0]\n"
     ]
    }
   ],
   "source": [
    "# Answer\n",
    "import numpy as np\n",
    "\n",
    "def simulate(p, a, n):\n",
    "    # Initialize the sequence with S_0 = a\n",
    "    sequence = [a]\n",
    "\n",
    "    for t in range(1, n+1):\n",
    "        if sequence[t-1] >= 1:\n",
    "            # Simulate X_t and update S_t\n",
    "            X_t = np.random.choice([1, -1], p=[p, 1-p])\n",
    "            S_t = sequence[t-1] + X_t\n",
    "            sequence.append(S_t)\n",
    "        else:\n",
    "            sequence.append(0)\n",
    "    return sequence\n",
    "\n",
    "# Example usage\n",
    "p = 0.5  # Probability of tails\n",
    "a = 10   # Initial amount of money\n",
    "n = 100  # Number of time steps\n",
    "\n",
    "simulation = simulate(p, a, n)\n",
    "print(simulation)"
   ]
  },
  {
   "cell_type": "markdown",
   "metadata": {
    "id": "EnawtdEi9rAu"
   },
   "source": [
    "2. Perform different scenarios and represent them graphically.   "
   ]
  },
  {
   "cell_type": "code",
   "execution_count": 18,
   "metadata": {
    "id": "ccL5vPls990P"
   },
   "outputs": [
    {
     "data": {
      "image/png": "[encoded data removed]",
      "text/plain": [
       "<Figure size 864x576 with 9 Axes>"
      ]
     },
     "metadata": {
      "needs_background": "light"
     },
     "output_type": "display_data"
    }
   ],
   "source": [
    "# Answer\n",
    "import numpy as np\n",
    "import matplotlib.pyplot as plt\n",
    "\n",
    "# Define parameters for scenarios\n",
    "p_values = [0.4, 0.5, 0.6]  # Different probabilities of tails\n",
    "a_values = [10, 20, 30]      # Different initial amounts\n",
    "n = 100                      # Number of time steps\n",
    "\n",
    "# Create subplots for different scenarios\n",
    "num_rows = len(p_values)\n",
    "num_cols = len(a_values)\n",
    "fig, axs = plt.subplots(num_rows, num_cols, figsize=(12, 8))\n",
    "\n",
    "for i, p in enumerate(p_values):\n",
    "    for j, a in enumerate(a_values):\n",
    "        # Simulate the process\n",
    "        simulation = simulate(p, a, n)\n",
    "\n",
    "        # Plot the simulation\n",
    "        ax = axs[i, j]\n",
    "        ax.plot(range(n+1), simulation, label=f'p={p}, a={a}')\n",
    "        ax.set_title(f'Scenario: p={p}, a={a}')\n",
    "        ax.set_xlabel('Time')\n",
    "        ax.set_ylabel('Amount of Money')\n",
    "        ax.legend()\n",
    "\n",
    "# Adjust layout\n",
    "plt.tight_layout()\n",
    "plt.show()\n"
   ]
  },
  {
   "cell_type": "markdown",
   "metadata": {
    "id": "jetMVcQh-BHf"
   },
   "source": [
    "3. Simulate a case where the player starts with an amount $a$ and plays until loosing all his money or obtaining an amount $n\\geq a$."
   ]
  },
  {
   "cell_type": "code",
   "execution_count": 122,
   "metadata": {
    "id": "79Nbhxl7-giN"
   },
   "outputs": [
    {
     "name": "stdout",
     "output_type": "stream",
     "text": [
      "Case of winning:\n",
      "[5, 6, 5, 6, 7, 8, 9, 10, 11, 12, 13, 14, 15, 16, 17, 18, 19, 20]\n",
      "Case of loosing:\n",
      "[5, 4, 3, 2, 3, 2, 1, 0]\n"
     ]
    }
   ],
   "source": [
    "# Answer\n",
    "import numpy as np\n",
    "\n",
    "def cond_simulate(p, a, n):\n",
    "    # Initialize the sequence with S_0 = a\n",
    "    sequence = [a]\n",
    "    while sequence[-1] >= 1:\n",
    "            # Simulate X_t and update S_t\n",
    "            X_t = np.random.choice([1, -1], p=[p, 1-p])\n",
    "            S_t = sequence[-1] + X_t\n",
    "            sequence.append(S_t)\n",
    "            \n",
    "            if S_t>= n:\n",
    "                return sequence\n",
    "            if S_t==0:\n",
    "                return sequence\n",
    "            \n",
    "    \n",
    "print(\"Case of winning:\")\n",
    "p = 0.9  # Probability of tails\n",
    "a = 5   # Initial amount of money\n",
    "n = 20   # Target amount\n",
    "\n",
    "simulation = cond_simulate(p, a, n)\n",
    "print(simulation)\n",
    "\n",
    "\n",
    "print(\"Case of loosing:\")\n",
    "p = 0.1  # Probability of tails\n",
    "a = 5   # Initial amount of money\n",
    "n = 20   # Target amount\n",
    "\n",
    "simulation = cond_simulate(p, a, n)\n",
    "print(simulation)\n"
   ]
  },
  {
   "cell_type": "markdown",
   "metadata": {
    "id": "0zW73Ntu-dAJ"
   },
   "source": [
    "4. We denote by $T$ the random variables that models the time when the game stops (i.e., when $S_T = 0 \\text{ or } S_T = n$). Verify using simulations that the mean time of a game is given by\n",
    "\n",
    "$$\n",
    "\\mathbb{E}(T) = \\begin{cases}\n",
    "\t\t\ta(n-a), & \\text{if $p=1/2$,}\\\\\n",
    "            \\frac{n}{2p-1}\\frac{1 - ρ^a}{1-\\rho^n}-\\frac{a}{2p-1}, & \\text{if $p\\neq1/2$,}\n",
    "\t\t \\end{cases}\n",
    "$$\n",
    "where $\\rho = \\frac{1-p}{p}$."
   ]
  },
  {
   "cell_type": "code",
   "execution_count": 133,
   "metadata": {
    "id": "OdeUW2ObAmSx"
   },
   "outputs": [
    {
     "name": "stdout",
     "output_type": "stream",
     "text": [
      "For p = 0.50, a = 5, n = 20:\n",
      "Empirical mean time: 73.78\n",
      "Expected mean time: 75.00\n",
      "\n"
     ]
    }
   ],
   "source": [
    "# Answer\n",
    "import numpy as np\n",
    "\n",
    "def expected_time(p, a, n):\n",
    "    rho = (1 - p) / p\n",
    "    if p == 0.5:\n",
    "        return a * (n - a)\n",
    "    else:\n",
    "        term1 = [n / (2 * p - 1)] * [(1 - rho**a) / (1 - rho**n)]\n",
    "        term2 = a / (2 * p - 1)\n",
    "        return term1 - term2\n",
    "\n",
    "# Define parameters\n",
    "p = 0.5  \n",
    "a = 5      # Different initial amounts\n",
    "n_values = 20     # Different target amounts\n",
    "num_simulations = 1000  # Number of simulations\n",
    "\n",
    "# Perform simulations and calculate empirical average times\n",
    "empirical_times = []\n",
    "for _ in range(num_simulations):\n",
    "    simulation = cond_simulate(p, a, n)\n",
    "    T = len(simulation) - 1 # Time when the game stops\n",
    "    empirical_times.append(T)\n",
    "\n",
    "empirical_mean_time = np.mean(empirical_times)\n",
    "expected_mean_time = expected_time(p, a, n)\n",
    "\n",
    "print(f\"For p = {p:.2f}, a = {a}, n = {n}:\")\n",
    "print(f\"Empirical mean time: {empirical_mean_time:.2f}\")\n",
    "print(f\"Expected mean time: {expected_mean_time:.2f}\")\n",
    "print()"
   ]
  },
  {
   "cell_type": "markdown",
   "metadata": {
    "id": "CMRqd5kv9bS5"
   },
   "source": [
    "5. Same question for the exit state $\\mathbb{P}(S_T = 0)$ given by\n",
    "$$\n",
    "\\mathbb{P}(S_T = 0) = \\begin{cases}\n",
    "\t\t\t\\frac{n-a}{n}, & \\text{if $p=1/2$,}\\\\\n",
    "            \\frac{\\rho^a-\\rho^n}{1-\\rho^n}, & \\text{if $p\\neq1/2$,}\n",
    "\t\t \\end{cases}\n",
    "$$"
   ]
  },
  {
   "cell_type": "code",
   "execution_count": 225,
   "metadata": {
    "id": "ahy8TNFbF-t-"
   },
   "outputs": [
    {
     "name": "stdout",
     "output_type": "stream",
     "text": [
      "For p = 0.70, a = 10, n = 50:\n",
      "Empirical exit state probability: 0.00\n",
      "Expected exit state probability: 0.00\n",
      "\n"
     ]
    }
   ],
   "source": [
    "# Answer\n",
    "import numpy as np\n",
    "\n",
    "def exit_state_probability(p, a, n):\n",
    "    rho = (1 - p) / p\n",
    "    if p == 0.5:\n",
    "        return (n - a) / n\n",
    "    else:\n",
    "        return (rho**a - rho**n) / (1 - rho**n)\n",
    "\n",
    "# Define parameters\n",
    "p =  0.7  # Different probabilities of tails\n",
    "a = 10     # Different initial amounts\n",
    "n = 50    # Different target amounts\n",
    "num_simulations = 100  # Number of simulations\n",
    "\n",
    "# Perform simulations and calculate empirical exit state probabilities\n",
    "for _ in range(num_simulations):\n",
    "    simulation = simulate(p, a, n)\n",
    "    empirical_exit_state_probabilities = 0\n",
    "    if simulation[-1] == 0:\n",
    "        empirical_exit_state_probabilities =+1\n",
    "empirical_exit_state_prob = np.mean(empirical_exit_state_probabilities)\n",
    "theoretical_exit_state_prob = exit_state_probability(p, a, n)\n",
    "print(f\"For p = {p:.2f}, a = {a}, n = {n}:\")\n",
    "print(f\"Empirical exit state probability: {empirical_exit_state_prob:.2f}\")\n",
    "print(f\"Expected exit state probability: {theoretical_exit_state_prob:.2f}\")\n",
    "print()"
   ]
  },
  {
   "cell_type": "markdown",
   "metadata": {
    "id": "RMoBi_GNrz3q"
   },
   "source": [
    "### Exercise 4"
   ]
  },
  {
   "cell_type": "markdown",
   "metadata": {
    "id": "o7novYjZr2hi"
   },
   "source": [
    "Binomial Distribution Simulator\n",
    "\n",
    "Implement a Python program that simulates the Binomial distribution:\n",
    "\n",
    "1. Take parameters n (number of trials) and p (probability of success) as input.<br>\n",
    "2. Simulate a sequence of n independent Bernoulli trials with success probability p. <br>\n",
    "3. Count the number of successes in the sequence.<br>\n",
    "4. Repeat the simulation multiple times to estimate the Binomial distribution.<br>\n",
    "5. Plot a histogram to visualize the distribution.<br>"
   ]
  },
  {
   "cell_type": "code",
   "execution_count": 25,
   "metadata": {
    "id": "fyhyPPViszON"
   },
   "outputs": [
    {
     "data": {
      "image/png": "[encoded data removed]",
      "text/plain": [
       "<Figure size 432x288 with 1 Axes>"
      ]
     },
     "metadata": {
      "needs_background": "light"
     },
     "output_type": "display_data"
    }
   ],
   "source": [
    "import numpy as np\n",
    "import matplotlib.pyplot as plt\n",
    "\n",
    "def binomial_simulation(n, p, num_simulations):\n",
    "    successes = np.random.binomial(n, p, num_simulations)\n",
    "    return successes\n",
    "\n",
    "n = 10\n",
    "p = 0.3\n",
    "num_simulations = 1000\n",
    "successes = binomial_simulation(n, p, num_simulations)\n",
    "\n",
    "plt.hist(successes, bins=n+1, range=(0, n+1), edgecolor='black', align='left')\n",
    "plt.title(\"Binomial Distribution Simulation\")\n",
    "plt.xlabel(\"Number of Successes\")\n",
    "plt.ylabel(\"Frequency\")\n",
    "plt.show()\n"
   ]
  },
  {
   "cell_type": "markdown",
   "metadata": {
    "id": "CGo0URMnsLcA"
   },
   "source": [
    "### Exercise 5"
   ]
  },
  {
   "cell_type": "markdown",
   "metadata": {
    "id": "AK8I1u7XsNCt"
   },
   "source": [
    "Exponential Distribution and Central Limit Theorem\n",
    "\n",
    "Write a Python program that demonstrates the Central Limit Theorem using the Exponential distribution:\n",
    "\n",
    "1.Simulate a large number of samples from the Exponential distribution.<br>\n",
    "2. Calculate the sample means for various sample sizes (e.g., 5, 10, 30).<br>\n",
    "3. Plot histograms of the sample means and compare them to the theoretical normal distribution.<br>\n",
    "4. Calculate the mean and standard deviation of the sample means for different sample sizes.<br>\n",
    "5. Investigate how the sample mean distribution changes as the sample size increases.<br>\n",
    "5. Explore the convergence to the normal distribution as the sample size grows."
   ]
  },
  {
   "cell_type": "code",
   "execution_count": 26,
   "metadata": {
    "id": "Z5SNOPa8s3SM"
   },
   "outputs": [
    {
     "data": {
      "image/png": "[encoded data removed]",
      "text/plain": [
       "<Figure size 864x576 with 1 Axes>"
      ]
     },
     "metadata": {
      "needs_background": "light"
     },
     "output_type": "display_data"
    },
    {
     "name": "stdout",
     "output_type": "stream",
     "text": [
      "For sample size 5:\n",
      "Mean of sample means: 1.0133\n",
      "Standard deviation of sample means: 0.4337\n",
      "\n",
      "For sample size 10:\n",
      "Mean of sample means: 1.0015\n",
      "Standard deviation of sample means: 0.3118\n",
      "\n",
      "For sample size 30:\n",
      "Mean of sample means: 0.9896\n",
      "Standard deviation of sample means: 0.1779\n",
      "\n"
     ]
    },
    {
     "data": {
      "image/png": "[encoded data removed]",
      "text/plain": [
       "<Figure size 720x432 with 1 Axes>"
      ]
     },
     "metadata": {
      "needs_background": "light"
     },
     "output_type": "display_data"
    }
   ],
   "source": [
    "import numpy as np\n",
    "import matplotlib.pyplot as plt\n",
    "\n",
    "def exponential_clt_simulation(sample_sizes, num_simulations):\n",
    "    population_mean = 1.0\n",
    "    sample_means = []\n",
    "\n",
    "    for size in sample_sizes:\n",
    "        samples = np.random.exponential(scale=population_mean, size=(num_simulations, size))\n",
    "        sample_means.append(np.mean(samples, axis=1))\n",
    "\n",
    "    return sample_means\n",
    "\n",
    "sample_sizes = [5, 10, 30]\n",
    "num_simulations = 1000\n",
    "sample_means = exponential_clt_simulation(sample_sizes, num_simulations)\n",
    "\n",
    "plt.figure(figsize=(12, 8))\n",
    "\n",
    "for i, size in enumerate(sample_sizes):\n",
    "    plt.hist(sample_means[i], bins=30, edgecolor='black', alpha=0.7, label=f'Sample Size {size}')\n",
    "\n",
    "plt.title(\"Central Limit Theorem with Exponential Distribution\")\n",
    "plt.xlabel(\"Sample Mean\")\n",
    "plt.ylabel(\"Frequency\")\n",
    "plt.legend()\n",
    "plt.show()\n",
    "\n",
    "# Calculate mean and standard deviation of sample means\n",
    "for i, size in enumerate(sample_sizes):\n",
    "    mean_of_sample_means = np.mean(sample_means[i])\n",
    "    std_of_sample_means = np.std(sample_means[i])\n",
    "    print(f\"For sample size {size}:\")\n",
    "    print(f\"Mean of sample means: {mean_of_sample_means:.4f}\")\n",
    "    print(f\"Standard deviation of sample means: {std_of_sample_means:.4f}\")\n",
    "    print()\n",
    "\n",
    "# Investigate convergence to normal distribution as sample size increases\n",
    "plt.figure(figsize=(10, 6))\n",
    "for i, size in enumerate(sample_sizes):\n",
    "    plt.hist(sample_means[i], bins=30, edgecolor='black', alpha=0.5, label=f'Sample Size {size}')\n",
    "\n",
    "plt.title(\"Convergence to Normal Distribution\")\n",
    "plt.xlabel(\"Sample Mean\")\n",
    "plt.ylabel(\"Frequency\")\n",
    "plt.legend()\n",
    "plt.show()\n"
   ]
  }
 ],
 "metadata": {
  "colab": {
   "provenance": []
  },
  "kernelspec": {
   "display_name": "Python 3 (ipykernel)",
   "language": "python",
   "name": "python3"
  },
  "language_info": {
   "codemirror_mode": {
    "name": "ipython",
    "version": 3
   },
   "file_extension": ".py",
   "mimetype": "text/x-python",
   "name": "python",
   "nbconvert_exporter": "python",
   "pygments_lexer": "ipython3",
   "version": "3.11.5"
  }
 },
 "nbformat": 4,
 "nbformat_minor": 1
}
